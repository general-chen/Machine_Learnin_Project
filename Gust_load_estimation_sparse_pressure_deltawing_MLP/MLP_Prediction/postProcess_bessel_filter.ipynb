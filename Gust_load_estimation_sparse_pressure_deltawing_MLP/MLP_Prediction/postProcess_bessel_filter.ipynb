{
 "cells": [
  {
   "cell_type": "markdown",
   "id": "ae692f28-cfb6-4565-92d9-2922d83c82d4",
   "metadata": {},
   "source": [
    "# Post process for ensembling average\n",
    "    - layer:8, neuron:72\n",
    "- Define task to postprocess\n",
    "-  task  = ['predict', 'cross_validation']\n",
    "    - cross_validation is for post process\n",
    "- 'cross_validation': for cross validation; has 7 folds\n",
    "- 'predict': for test using parameters chose by cross validation; has 1 fold --> fold8\n",
    "-  force = ['CL', 'CD']\n",
    "-  filt  = ['bessel', 'no filter']\n",
    "    - no filter for all CL, CD"
   ]
  },
  {
   "cell_type": "markdown",
   "id": "bddc0611-43a0-498e-8056-bf347b540487",
   "metadata": {},
   "source": [
    "# import packages"
   ]
  },
  {
   "cell_type": "code",
   "execution_count": null,
   "id": "6ee400c4-c475-4bcc-9f5b-0cfcb817f4f1",
   "metadata": {},
   "outputs": [],
   "source": [
    "import pickle\n",
    "import numpy as np\n",
    "import matplotlib.pyplot as plt\n",
    "import pandas as pd\n",
    "from scipy.signal import bessel\n",
    "from scipy.signal import filtfilt"
   ]
  },
  {
   "cell_type": "markdown",
   "id": "44570e3d-2fb1-40e3-ac35-8550a2500c3b",
   "metadata": {},
   "source": [
    "# define the font style in the figures\n",
    "- title, label, legend, text, math text\n",
    "- font: Times New Roman\n",
    "- font size: 20"
   ]
  },
  {
   "cell_type": "code",
   "execution_count": null,
   "id": "cccc6ab6-5673-487a-95f9-bddd59fc2c18",
   "metadata": {},
   "outputs": [],
   "source": [
    "import matplotlib as mpl\n",
    "\n",
    "mpl.rcParams['font.family'] = 'Times New Roman'\n",
    "mpl.rcParams['font.size']   = 20 # 15\n",
    "\n",
    "mpl.rcParams['mathtext.fontset'] = 'custom'\n",
    "mpl.rcParams['mathtext.rm'] = 'Times New Roman'\n",
    "mpl.rcParams['mathtext.it'] = 'Times New Roman:italic'"
   ]
  },
  {
   "cell_type": "markdown",
   "id": "431a8472-da40-4aac-9f6c-541f51589a05",
   "metadata": {},
   "source": [
    "# plot half delta wing in 2D"
   ]
  },
  {
   "cell_type": "code",
   "execution_count": null,
   "id": "6354f14d-0fcb-41d1-b20a-02f6ec35c4cd",
   "metadata": {},
   "outputs": [],
   "source": [
    "x = np.linspace(-1, 1, 100)\n",
    "y = x+1\n",
    "fig,ax = plt.subplots(figsize=(5,3))\n",
    "ax.plot(x, y)\n",
    "ax.set_xlim(-1, 0)\n",
    "ax.set_ylim(0, 1)\n",
    "ax.set_aspect('equal')\n",
    "ax.set_xlabel('$x/c$')\n",
    "ax.set_ylabel('$y/c$')\n",
    "ax.grid(color='k', linestyle='-', linewidth=0.1)\n",
    "fig.savefig('deltawing.svg')"
   ]
  },
  {
   "cell_type": "markdown",
   "id": "29f49b39-90e5-488c-8c53-31e5f9f80c4e",
   "metadata": {},
   "source": [
    "# define task"
   ]
  },
  {
   "cell_type": "code",
   "execution_count": null,
   "id": "f7aed64d-8474-408b-a98a-a5fdc575854b",
   "metadata": {},
   "outputs": [],
   "source": [
    "task = 'predict' \n",
    "force = 'CL'     \n",
    "filt = 'bessel' # only for cp; no cl or cd filter\n",
    "\n",
    "if task == 'cross_validation':\n",
    "    folds = 7\n",
    "    print('Post process for ', force)\n",
    "elif task == 'predict':\n",
    "    folds = 1\n",
    "else:\n",
    "    print('Error. Please define your task.') \n",
    "print('Define the task complete.')"
   ]
  },
  {
   "cell_type": "markdown",
   "id": "e0c6e9c5-2226-4573-b5cd-78412c75f22d",
   "metadata": {},
   "source": [
    "# load data"
   ]
  },
  {
   "cell_type": "markdown",
   "id": "a7434439-727c-42e7-bb75-7a11f85a3374",
   "metadata": {},
   "source": [
    "## define the hyperparameters used in trained model"
   ]
  },
  {
   "cell_type": "code",
   "execution_count": null,
   "id": "274e6875-c905-4181-867f-cb647bf632d2",
   "metadata": {},
   "outputs": [],
   "source": [
    "#Load the variable from ensemble average prediction; only (layer,neuron): (3,32), (5,64), (8,72) for ensembling\n",
    "num_neuron = [72] #[32,64,72]      [16, 24, 32, 40, 48, 56, 64, 72]\n",
    "num_layer  = [8]  #[3,5,8]         [1,  2,  3  ,4,  5,  6,  7,  8]\n",
    "epoch_total = 200\n",
    "weight_decay = 0 # 5e-4 # l2 regularization hyperparameter\n",
    "learn_rate   = 1e-5 # 1e-4\n",
    "batch_how    = 200  # 200\n",
    "\n",
    "ensemble_num = 30"
   ]
  },
  {
   "cell_type": "markdown",
   "id": "94064ad6-ec78-4624-bdee-d1a69315c659",
   "metadata": {},
   "source": [
    "## load data"
   ]
  },
  {
   "cell_type": "code",
   "execution_count": null,
   "id": "c934035d-ba15-448e-a85f-a32477a94ce6",
   "metadata": {},
   "outputs": [],
   "source": [
    "# read data\n",
    "# folder path\n",
    "data_path = 'gust_dataframe.csv'\n",
    "\n",
    "# read the excel data\n",
    "gust_origin = pd.read_csv(data_path)"
   ]
  },
  {
   "cell_type": "code",
   "execution_count": null,
   "id": "b213ce29-748f-49bb-b5b2-eec4492c3c3b",
   "metadata": {},
   "outputs": [],
   "source": [
    "# check data\n",
    "gust_origin.head()"
   ]
  },
  {
   "cell_type": "code",
   "execution_count": null,
   "id": "c25dcb69-0837-4d63-bf60-b1475253aedc",
   "metadata": {},
   "outputs": [],
   "source": [
    "# set the first column as index, i.e. set case_nn as index, for convenience\n",
    "gust_origin.set_index('case_number', inplace=True)\n",
    "print(gust_origin.shape)\n",
    "# check the first 5 columns\n",
    "gust_origin.head()"
   ]
  },
  {
   "cell_type": "markdown",
   "id": "25daf3dd-6a44-4cfb-8945-fc21f0b54864",
   "metadata": {},
   "source": [
    "# filter data"
   ]
  },
  {
   "cell_type": "code",
   "execution_count": null,
   "id": "474230bf-d862-496c-bfec-12abb50dc63f",
   "metadata": {},
   "outputs": [],
   "source": [
    "# bessel filter for every column; only filt CP\n",
    "if filt == 'bessel':\n",
    "    \n",
    "    gust_index   = gust_origin.index\n",
    "    gust_column  = gust_origin.columns\n",
    "    gust_no_filter = np.zeros((gust_index.nunique(),len(gust_origin.loc[['case_01']]),len(gust_origin.columns))) # (32,2500,18)\n",
    "    gust_filter    = np.zeros((gust_index.nunique(),len(gust_origin.loc[['case_01']]),len(gust_origin.columns)))\n",
    "    case_all_no = (np.linspace(0,31,32)).astype(int)\n",
    "    b, a = bessel(8, 0.01) # define the bessel filter; 8 is the filter order; 0.01 is the W_n (between 0 to 1)\n",
    "    \n",
    "    for i in case_all_no:      # i is the case number\n",
    "        case_numer = 'case_' + str(i+1).zfill(2)\n",
    "        gust_no_filter[i] = gust_origin.loc[[case_numer]].to_numpy()\n",
    "        for j in range(len(gust_origin.columns)-2):       # j is the CP and CL CD number\n",
    "            gust_filter[i][:,j] = filtfilt(b, a, gust_no_filter[i][:,j]) # bessel filter for cp\n",
    "        gust_filter[i][:,len(gust_origin.columns)-2] = gust_no_filter[i][:,len(gust_origin.columns)-2]  # no filter for CL\n",
    "        gust_filter[i][:,len(gust_origin.columns)-1] = gust_no_filter[i][:,len(gust_origin.columns)-1]  # no filter for CD\n",
    "    gust = pd.DataFrame(data=np.concatenate(gust_filter,axis=0), index=gust_index, columns=gust_column)\n",
    "    \n",
    "elif filt == 'no filter':\n",
    "    gust = gust_origin\n",
    "    \n",
    "else:\n",
    "    print('Error. Please define your filter.')"
   ]
  },
  {
   "cell_type": "code",
   "execution_count": null,
   "id": "96d69dcd-9bfb-43f3-8d95-d8b840b863e4",
   "metadata": {},
   "outputs": [],
   "source": [
    "# check gust\n",
    "gust.head()"
   ]
  },
  {
   "cell_type": "code",
   "execution_count": null,
   "id": "0f157ead-2d88-4416-825c-4f6e308f8e41",
   "metadata": {},
   "outputs": [],
   "source": [
    "# check force\n",
    "plt.plot(gust[[force]].to_numpy()[0:2500,0])"
   ]
  },
  {
   "cell_type": "markdown",
   "id": "7aeea2cc-d2af-436c-bb3c-63238e96dfef",
   "metadata": {},
   "source": [
    "# retrieve cp cl and cd from dataframe"
   ]
  },
  {
   "cell_type": "code",
   "execution_count": null,
   "id": "d34af77e-f2cf-4a44-9b41-8eac9e3f7d3e",
   "metadata": {},
   "outputs": [],
   "source": [
    "# retrieve CP, 16(CP) + 16(CP_1st_order) + 16(CP_2nd_order) = 48 columns in total\n",
    "# simply drop CL and CD, then the rest is CP\n",
    "CP = gust.drop(['CL','CD'],axis=1, inplace=False)\n",
    "CP.head()"
   ]
  },
  {
   "cell_type": "code",
   "execution_count": null,
   "id": "a1944db0-7436-453e-be45-8c32044f02f1",
   "metadata": {},
   "outputs": [],
   "source": [
    "# retrieve CL or CD\n",
    "if force == 'CL':\n",
    "    CL = gust[['CL']]\n",
    "elif force == 'CD':\n",
    "    CD = gust[['CD']]\n",
    "else:\n",
    "    print('Error. Please define your force to post process.')\n",
    "gust[['CL']].head()"
   ]
  },
  {
   "cell_type": "code",
   "execution_count": null,
   "id": "a44dc80a-6aa6-48f0-993d-5696e19f1b58",
   "metadata": {},
   "outputs": [],
   "source": [
    "# retrieve for 8 different folds\n",
    "# read the split .txt file; the number means the cases for test\n",
    "split_path = 'delta_wing_32cases_split_random.txt'\n",
    "with open(split_path, 'r') as file1:    \n",
    "    fold_split = file1.read().splitlines()       # split by \\n\n",
    "fold_split = fold_split[1:] # drop the head line\n",
    "for i in range(8):\n",
    "    fold_split[i] = fold_split[i][9:].split()    # split by space; the number starts from 10th character.\n",
    "    for j in range(4):\n",
    "        fold_split[i][j] = int(fold_split[i][j]) # convert string to int\n",
    "fold_split"
   ]
  },
  {
   "cell_type": "code",
   "execution_count": null,
   "id": "062dfd3c-df6f-49cd-a7a1-fd90c7d26c1f",
   "metadata": {},
   "outputs": [],
   "source": [
    "# define the 32 case number\n",
    "case_all_num = np.arange(gust.index.nunique()) + 1\n",
    "print(case_all_num)\n",
    "print(case_all_num.shape)"
   ]
  },
  {
   "cell_type": "code",
   "execution_count": null,
   "id": "2463f560-0903-4540-81c3-a588df1e2b2a",
   "metadata": {},
   "outputs": [],
   "source": [
    "# find the case number for train and test cases;\n",
    "if task == 'cross_validation':\n",
    "    train_case = [ [0]*24 for _ in range(folds) ] # initialize 2d list; list for 'case_nn'\n",
    "    test_case  = [ [0]*4 for _ in range(folds) ]\n",
    "    # find case number for cross validation folds: fold1~fold7\n",
    "    for i in range(folds): \n",
    "        train_case_temp = np.setdiff1d( case_all_num, np.concatenate((fold_split[i], fold_split[-1]))) \n",
    "        # drop test case and the last one (which is for fold 8 , final test)\n",
    "        test_case_temp  = fold_split[i]\n",
    "\n",
    "        # conbine to 'case_nn' sample for train and test case; prepare for next step\n",
    "        for j in range(len(train_case_temp)):\n",
    "            train_case[i][j] = 'case_' + str(train_case_temp[j]).zfill(2)\n",
    "        for k in range(len(test_case_temp)):\n",
    "            test_case[i][k]  = 'case_' + str(test_case_temp[k]).zfill(2)\n",
    "            \n",
    "elif task == 'predict': \n",
    "    train_case = [ [0]*28 for _ in range(folds) ] # initialize 2d list; list for 'case_nn'\n",
    "    test_case  = [ [0]*4 for _ in range(folds) ]\n",
    "    # find case number for test fold: fold8  \n",
    "    train_case_temp = np.setdiff1d(case_all_num, fold_split[-1])\n",
    "    test_case_temp  = fold_split[-1]\n",
    "    for jj in range(len(train_case_temp)):\n",
    "        train_case[-1][jj] = 'case_' + str(train_case_temp[jj]).zfill(2)\n",
    "    for kk in range(len(test_case_temp)):\n",
    "        test_case[-1][kk]  = 'case_' + str(test_case_temp[kk]).zfill(2)\n",
    "\n",
    "else:\n",
    "    print('Error. Please define your task.')\n",
    "\n",
    "print(test_case[0])\n",
    "print('Done!')"
   ]
  },
  {
   "cell_type": "markdown",
   "id": "f62db975-0ad5-44fe-8f1d-a1bd9603509d",
   "metadata": {},
   "source": [
    "#  prepare for train and test data sets"
   ]
  },
  {
   "cell_type": "code",
   "execution_count": null,
   "id": "8c30780e-ac3b-4276-8338-f8e4d5b78e6e",
   "metadata": {},
   "outputs": [],
   "source": [
    "if task == 'cross_validation':\n",
    "    F_train_rec = np.zeros([folds,60000,1]) # 24*2500 = 60000\n",
    "    F_test_rec  = np.zeros([folds,10000,1])  # 4*2500  = 10000\n",
    "    P_train_rec = np.zeros([folds,60000,48])\n",
    "    P_test_rec  = np.zeros([folds,10000,48])\n",
    "\n",
    "    for i in range(folds): # 7 folds for training, the last one is for test, not retrieve here, since this is for training\n",
    "        if force == 'CL':\n",
    "            F_train_rec[i] = CL.loc[train_case[i]].to_numpy()\n",
    "            F_test_rec[i]  = CL.loc[test_case[i]].to_numpy()\n",
    "        elif force == 'CD':\n",
    "            F_train_rec[i] = CD.loc[train_case[i]].to_numpy()\n",
    "            F_test_rec[i]  = CD.loc[test_case[i]].to_numpy()\n",
    "        else:\n",
    "            print('Error. Please define force.')\n",
    "\n",
    "        P_train_rec[i] = CP.loc[train_case[i]].to_numpy()\n",
    "        P_test_rec[i]  = CP.loc[test_case[i]].to_numpy()\n",
    "\n",
    "elif task == 'predict':\n",
    "    F_train_rec = np.zeros([folds,70000,1]) # 28*2500 = 70000\n",
    "    F_test_rec  = np.zeros([folds,10000,1])  # 4*2500  = 10000\n",
    "    P_train_rec = np.zeros([folds,70000,16])\n",
    "    P_test_rec  = np.zeros([folds,10000,16])\n",
    "    \n",
    "    if force == 'CL':\n",
    "        F_train_rec[0] = CL.loc[train_case[0]].to_numpy()\n",
    "        F_test_rec[0]  = CL.loc[test_case[0]].to_numpy()\n",
    "    elif force == 'CD':\n",
    "        F_train_rec[0] = CD.loc[train_case[0]].to_numpy()\n",
    "        F_test_rec[0]  = CD.loc[test_case[0]].to_numpy()\n",
    "    else:\n",
    "        print('Error. Please define force.')\n",
    "\n",
    "    P_train_rec[0] = CP.loc[train_case[0]].to_numpy()\n",
    "    P_test_rec[0]  = CP.loc[test_case[0]].to_numpy()\n",
    "    \n",
    "else:\n",
    "    print('Error. Please define your task.')\n",
    "    \n",
    "print('Done')"
   ]
  },
  {
   "cell_type": "code",
   "execution_count": null,
   "id": "ab1944c1-655e-4918-842c-1ca0f8e22117",
   "metadata": {},
   "outputs": [],
   "source": [
    "print(task)\n",
    "print(force)\n",
    "print(folds)"
   ]
  },
  {
   "cell_type": "markdown",
   "id": "af582454-902c-42d2-89c8-f7b244d4c7bf",
   "metadata": {},
   "source": [
    "# load the ensembling average results"
   ]
  },
  {
   "cell_type": "code",
   "execution_count": null,
   "id": "7bd0f7cd-f2b8-4ee5-99ec-73d7275ec180",
   "metadata": {
    "tags": []
   },
   "outputs": [],
   "source": [
    "result_folder = 'deltaWing/code/pred-cl-ensemble-average-cp-besselfilter/'\n",
    "predictions = {}\n",
    "for i in num_neuron: # define the neurons\n",
    "    for j in num_layer: # define the hidden layers \n",
    "        for k in range(ensemble_num): # start loop for 7 folds cross-validation\n",
    "            # print('loading ensemble_num: %d' % (i))\n",
    "            predictions[k,i,j] = np.array(pickle.load(\n",
    "                open(result_folder+'F_pred_p_filter_ensemble_num_'+str(k)+'_neuron_'+str(i)+'_layer_'+str(j)+'.dat', 'rb')))\n",
    "            # respahe predictions (200,10000,1) --> (200,10000)\n",
    "            predictions[k,i,j] = predictions[k,i,j].reshape(epoch_total,len(P_test_rec[0])).T\n",
    "\n",
    "print(predictions[0,72,8].shape)\n",
    "print('Done!')\n",
    "            "
   ]
  },
  {
   "cell_type": "markdown",
   "id": "8de15aae-193e-43d6-b95f-92a88091c603",
   "metadata": {},
   "source": [
    "# define ensemble_average func\n",
    "- finds the ensemble average of the epoch predictions and the std  history\n",
    "- it returns the average result (array) and the std (array)"
   ]
  },
  {
   "cell_type": "code",
   "execution_count": null,
   "id": "a8e1cb9a-2a62-4a27-b741-4a7d4e5ee401",
   "metadata": {},
   "outputs": [],
   "source": [
    "def ensemble_average(epoch_pred):\n",
    "    sum_temp = np.zeros((len(epoch_pred[:,0]),len(epoch_pred[0,:])))\n",
    "    sum_temp[:,0] = epoch_pred[:,0]\n",
    "    std_hist = np.zeros((len(epoch_pred[0,:])))\n",
    "    std_hist[0] = np.std(sum_temp[:,0])\n",
    "    ensemble_averg = np.zeros((len(epoch_pred[:,0]),len(epoch_pred[0,:])))\n",
    "    ensemble_averg[:,0] = epoch_pred[:,0]\n",
    "    for i in range(len(epoch_pred[0,:])-1):\n",
    "        sum_temp[:,i+1] = sum_temp[:,i] + epoch_pred[:,i+1]\n",
    "        std_hist[i+1] = np.std(sum_temp[:,i+1]/(i+2))\n",
    "        ensemble_averg[:,i+1] = sum_temp[:,i+1]/(i+2)\n",
    "    return(std_hist, ensemble_averg)"
   ]
  },
  {
   "cell_type": "code",
   "execution_count": null,
   "id": "93aed23a-5e39-4c10-9e4c-756cdcfc7f79",
   "metadata": {},
   "outputs": [],
   "source": [
    "# test function ensemble_average\n",
    "a = np.array([[1,1,2,2],[1,2,1,3],[1,1,1,5]])\n",
    "(b,c) = ensemble_average(a)\n",
    "print(c)\n",
    "print(b == np.std(np.array([[1,2/2,4/3,6/4],[1,3/2,4/3,7/4],[1,2/2,3/3,8/4]]),axis=0))"
   ]
  },
  {
   "cell_type": "code",
   "execution_count": null,
   "id": "7a603992-33ec-4083-a136-fb7236d7295b",
   "metadata": {},
   "outputs": [],
   "source": [
    "# this cell calcalute the mse of different ensembling average: 50,60,70,80,90,...200\n",
    "from sklearn.metrics import mean_squared_error as mse\n",
    "\n",
    "ensemble_use = np.arange(50,210,10)\n",
    "mse_ensemble_use  = {} # dictionary, with keys and values\n",
    "epoch_hist_use    = np.zeros([len(ensemble_use),len(F_test_rec[0]),ensemble_num]) # 16*10000*30: 16 to show the mse, 10000 samples, 30 repeats\n",
    "ensemble_avrg_use = {}\n",
    "ensemble_std_use  = {}\n",
    "ensemble_avrg_use = {}\n",
    "\n",
    "neuron_this = num_neuron[0]\n",
    "layer_this  = num_layer[0]\n",
    "\n",
    "fig,ax_use = plt.subplots(figsize=(5,3))\n",
    "for j in ensemble_use: # [50,60,70,80,90,...200]\n",
    "    for i in range(ensemble_num): # repeat ensemble_num times with same hyperparameters\n",
    "        epoch_hist_use[int(j/10-5),:,i] = predictions[i,neuron_this,layer_this][:,j-1]\n",
    "        \n",
    "    (ensemble_std_use[j], ensemble_avrg_use[j]) = ensemble_average(epoch_hist_use[int(j/10-5)])\n",
    "    \n",
    "    mse_ensemble_use[j] = mse(ensemble_avrg_use[j][:,-1], F_test_rec[0][:,:])\n",
    "\n",
    "ax_use.plot(mse_ensemble_use.keys(),mse_ensemble_use.values(),color='blue', linewidth=1.5,marker='.',markersize=8)\n",
    "ax_use.set_xlim(50,200)\n",
    "ax_use.set_xticks(np.arange(50,210,30).tolist())\n",
    "# ax_use.set_ylim(0.012,0.030)\n",
    "ax_use.grid(color='k', linestyle='-', linewidth=0.1)\n",
    "ax_use.set_xlabel('Epochs')\n",
    "ax_use.set_ylabel('MSE')\n",
    "# fig.savefig('ensemble_error_Filter_neuron%d_layer%d.png' % (neuron_this,layer_this), bbox_inches='tight', dpi=300)\n",
    "# fig.savefig('ensemble_error_Filter_neuron%d_layer%d.svg' % (neuron_this,layer_this), bbox_inches='tight"
   ]
  },
  {
   "cell_type": "code",
   "execution_count": null,
   "id": "ab02b683-d563-4435-8f8e-c5c951d87e4c",
   "metadata": {},
   "outputs": [],
   "source": [
    "fig, ax = plt.subplots(figsize=(5,3))\n",
    "ax.plot(ensemble_std_use[200],color='blue', linewidth=1.5,marker='.',markersize=8)\n",
    "ax.grid(color='k', linestyle='-', linewidth=0.1)\n",
    "ax.set_xlabel('Number of Repeats')\n",
    "ax.set_ylabel('STD')\n",
    "ax.margins(x=0)\n",
    "ax.set_xlim(0,30)\n",
    "# fig.savefig('STD_repeat_Filter_neuron%d_layer%d.png' % (neuron_this,layer_this), bbox_inches='tight', dpi=300)\n",
    "# fig.savefig('STD_repeat_Filter_neuron%d_layer%d.svg' % (neuron_this,layer_this), bbox_inches='tight')"
   ]
  },
  {
   "cell_type": "code",
   "execution_count": null,
   "id": "c3c6f417-5e7b-4c1f-8042-60844bb9a249",
   "metadata": {},
   "outputs": [],
   "source": [
    "fig, ax_split = plt.subplots(2,2,figsize=(8,4))\n",
    "repeat_num = 200 # repeated number: 50 100\n",
    "\n",
    "T = 0.3 # period is 0.3s\n",
    "f = 1000 # frequency is 1000Hz\n",
    "t_star = (np.arange(0,10000) - 500) / f / T \n",
    "\n",
    "fig_num = 0 # for count opnly\n",
    "for i in range(4):\n",
    "    if fig_num in [0,1]:\n",
    "        p = 0\n",
    "        q = fig_num\n",
    "    else:\n",
    "        p = 1\n",
    "        q = fig_num - 2\n",
    "    ax_split[p,q].plot(t_star[0:2500-1], F_test_rec[0][2500*i:2500*(i+1)-1,:],label='F_test',color='red', linewidth=2)\n",
    "    ax_split[p,q].plot(t_star[0:2500-1], ensemble_avrg_use[repeat_num][2500*i:2500*(i+1)-1,-1],label='pred_average', \n",
    "                       color='blue', linewidth=2, linestyle='--') # 50 and 200 epochs\n",
    "    ax_split[p,q].grid(color='k', linestyle='-', linewidth=0.1)\n",
    "    ax_split[p,q].set_xticks(np.arange(-1,8))\n",
    "    ax_split[p,q].set_xlim(-1,6.5)\n",
    "    ax_split[p,q].margins(x=0)\n",
    "    ax_split[p,q].set_xlabel('$t^*$')\n",
    "    fig_num = fig_num + 1\n",
    "ax_split[0,0].set_ylabel('$C_{L}$')\n",
    "ax_split[0,0].legend(['$C_{L}$, measured','$C_{L}$, predicted'])\n",
    "ax_split[1,0].set_ylabel('$C_{L}$')\n",
    "\n",
    "# fig.savefig('ensemble%d_pred_besselFilter_neuron%d_layer%d.png' % (repeat_num,neuron_this,layer_this), bbox_inches='tight', dpi=300)\n",
    "# fig.savefig('ensemble%d_pred_besselFilter_neuron%d_layer%d.svg' % (repeat_num,neuron_this,layer_this), bbox_inches='tight')"
   ]
  },
  {
   "cell_type": "markdown",
   "id": "62e348a7-487e-471a-a2bf-d35802d8da33",
   "metadata": {},
   "source": [
    "# save results to combine the data with bessel filter"
   ]
  },
  {
   "cell_type": "code",
   "execution_count": null,
   "id": "b9e11c2a-7b78-41e8-8e58-483e186df8f3",
   "metadata": {},
   "outputs": [],
   "source": [
    "import pickle\n",
    "\n",
    "# #Save the variable\n",
    "# pickle.dump(predictions, open(\"predictions.dat\", \"wb\"))\n",
    "# #Load the variable\n",
    "# variable = pickle.load(open(\"predictions.dat\", \"rb\"))\n",
    "\n",
    "pickle.dump(mse_ensemble_use, open(\"../2023-01-16-mse-std-pred/mse_ensemble_use_bessel_filter.dat\", \"wb\"))\n",
    "pickle.dump(ensemble_std_use, open(\"../2023-01-16-mse-std-pred/ensemble_std_use_bessel_filter.dat\", \"wb\"))\n",
    "# pickle.dump(F_test_rec, open(\"../2023-01-16-mse-std-pred/F_test_rec.dat\", \"wb\"))\n",
    "pickle.dump(ensemble_avrg_use, open(\"../2023-01-16-mse-std-pred/ensemble_avrg_use_bessel_filter.dat\", \"wb\"))"
   ]
  },
  {
   "cell_type": "code",
   "execution_count": null,
   "id": "dd0ab8c2-206a-4526-aa97-79073098afd3",
   "metadata": {},
   "outputs": [],
   "source": []
  }
 ],
 "metadata": {
  "kernelspec": {
   "display_name": "Python 3 (ipykernel)",
   "language": "python",
   "name": "python3"
  },
  "language_info": {
   "codemirror_mode": {
    "name": "ipython",
    "version": 3
   },
   "file_extension": ".py",
   "mimetype": "text/x-python",
   "name": "python",
   "nbconvert_exporter": "python",
   "pygments_lexer": "ipython3",
   "version": "3.9.12"
  }
 },
 "nbformat": 4,
 "nbformat_minor": 5
}
