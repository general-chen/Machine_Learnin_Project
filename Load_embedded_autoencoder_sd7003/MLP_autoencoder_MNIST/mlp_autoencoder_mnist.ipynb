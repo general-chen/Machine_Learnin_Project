{
 "cells": [
  {
   "cell_type": "code",
   "execution_count": 1,
   "id": "ba21466e-4e9c-4c64-a764-f5d581024c29",
   "metadata": {},
   "outputs": [],
   "source": [
    "import numpy as np\n",
    "import tensorflow as tf\n",
    "from tensorflow import keras\n",
    "from keras.layers import Input, Dense\n",
    "from keras.models import Model\n",
    "from tensorflow.keras.optimizers import Adam\n",
    "from keras.callbacks import Callback\n",
    "\n",
    "from tensorflow.keras.datasets import mnist\n",
    "from tensorflow.keras.utils import to_categorical"
   ]
  },
  {
   "cell_type": "code",
   "execution_count": 5,
   "id": "9438ea1f-8ace-461e-850e-2c3531af6ac2",
   "metadata": {},
   "outputs": [
    {
     "name": "stdout",
     "output_type": "stream",
     "text": [
      "Epoch 1/10\n",
      "469/469 [==============================] - 3s 4ms/step - loss: 305.5664 - dense_21_loss: 304.5495 - dense_23_loss: 1.0169\n",
      "Epoch 2/10\n",
      "469/469 [==============================] - 2s 4ms/step - loss: 282.7155 - dense_21_loss: 282.0865 - dense_23_loss: 0.6291\n",
      "Epoch 3/10\n",
      "469/469 [==============================] - 2s 4ms/step - loss: 276.2886 - dense_21_loss: 275.7923 - dense_23_loss: 0.4962\n",
      "Epoch 4/10\n",
      "469/469 [==============================] - 2s 4ms/step - loss: 277.8289 - dense_21_loss: 277.3952 - dense_23_loss: 0.4335\n",
      "Epoch 5/10\n",
      "469/469 [==============================] - 2s 4ms/step - loss: 280.1629 - dense_21_loss: 279.8458 - dense_23_loss: 0.3172\n",
      "Epoch 6/10\n",
      "469/469 [==============================] - 2s 4ms/step - loss: 277.1721 - dense_21_loss: 276.8123 - dense_23_loss: 0.3598\n",
      "Epoch 7/10\n",
      "469/469 [==============================] - 2s 4ms/step - loss: 281.4274 - dense_21_loss: 281.1007 - dense_23_loss: 0.3269\n",
      "Epoch 8/10\n",
      "469/469 [==============================] - 2s 4ms/step - loss: 275.4403 - dense_21_loss: 275.1083 - dense_23_loss: 0.3322\n",
      "Epoch 9/10\n",
      "469/469 [==============================] - 2s 4ms/step - loss: 274.7306 - dense_21_loss: 274.4738 - dense_23_loss: 0.2568\n",
      "Epoch 10/10\n",
      "469/469 [==============================] - 2s 4ms/step - loss: 275.5655 - dense_21_loss: 275.2473 - dense_23_loss: 0.3180\n",
      "313/313 [==============================] - 1s 1ms/step - loss: 279.0847 - dense_21_loss: 278.7888 - dense_23_loss: 0.2959\n"
     ]
    },
    {
     "data": {
      "text/plain": [
       "[279.084716796875, 278.78875732421875, 0.29594886302948]"
      ]
     },
     "execution_count": 5,
     "metadata": {},
     "output_type": "execute_result"
    }
   ],
   "source": [
    "# Load the MNIST dataset\n",
    "(x_train, y_train), (x_test, y_test) = mnist.load_data()\n",
    "\n",
    "# Preprocess the data\n",
    "x_train = x_train.reshape(-1, 784).astype('float32') / 255.0\n",
    "x_test = x_test.reshape(-1, 784).astype('float32') / 255.0\n",
    "y_train = to_categorical(y_train, num_classes=10)\n",
    "y_test = to_categorical(y_test, num_classes=10)\n",
    "\n",
    "# Define the input shape\n",
    "input_shape = (784,)\n",
    "\n",
    "# Define the encoder part of the autoencoder\n",
    "input_layer = Input(shape=input_shape)\n",
    "encoded = Dense(256, activation='relu')(input_layer)\n",
    "encoded = Dense(128, activation='relu')(encoded)\n",
    "encoded = Dense(64, activation='relu')(encoded)\n",
    "\n",
    "# Define the decoder part of the autoencoder\n",
    "decoded = Dense(128, activation='relu')(encoded)\n",
    "decoded = Dense(256, activation='relu')(decoded)\n",
    "decoded = Dense(784, activation='sigmoid')(decoded)\n",
    "\n",
    "# Define the MLP\n",
    "mlp = Dense(64, activation='relu')(encoded)\n",
    "mlp = Dense(10, activation='softmax')(mlp)\n",
    "\n",
    "# Combine the autoencoder and MLP into a single model\n",
    "model = Model(inputs=input_layer, outputs=[decoded, mlp])\n",
    "\n",
    "# Define the combined loss function with a trainable weight\n",
    "alpha = tf.Variable(0.5, dtype=tf.float32)\n",
    "def combined_loss(y_true, y_pred):\n",
    "    # Reconstruction loss of the autoencoder\n",
    "    recon_loss = keras.losses.mean_squared_error(y_true[0], y_pred[0])\n",
    "    \n",
    "    # Classification loss of the MLP\n",
    "    class_loss = keras.losses.categorical_crossentropy(y_true[1], y_pred[1])\n",
    "    \n",
    "    # Trainable weight to balance the two losses\n",
    "    global alpha\n",
    "    \n",
    "    # Combine the two losses with the trainable weight\n",
    "    combined_loss = alpha * recon_loss + (1 - alpha) * class_loss\n",
    "    \n",
    "    return combined_loss\n",
    "\n",
    "# Define a callback to predict the output of the MLP on a validation set\n",
    "class PredictMLPCallback(Callback):\n",
    "    def __init__(self, x_test):\n",
    "        super(PredictMLPCallback, self).__init__()\n",
    "        self.x_val = x_test\n",
    "        self.predictions = []\n",
    "\n",
    "    def on_epoch_end(self, epoch, logs=None):\n",
    "        mlp_output = self.model.predict(self.x_val)[1]\n",
    "        self.predictions.append(mlp_output)\n",
    "\n",
    "learn_rate = 1e-3\n",
    "adam = Adam(learning_rate=learn_rate)\n",
    "        \n",
    "# Compile the model with the combined loss function\n",
    "model.compile(optimizer=adam, loss=combined_loss)\n",
    "\n",
    "# Create instance of PredictMLPCallback\n",
    "predict_mlp_callback = PredictMLPCallback(x_test)\n",
    "\n",
    "# Train the model\n",
    "model.fit(x_train, [x_train, y_train], epochs=10, batch_size=128, callbacks=[predict_mlp_callback])\n",
    "\n",
    "# Evaluate the model\n",
    "model.evaluate(x_test, [x_test, y_test])\n"
   ]
  },
  {
   "cell_type": "code",
   "execution_count": 6,
   "id": "350b0bf8-e697-4ba1-920e-e2fdad576999",
   "metadata": {},
   "outputs": [
    {
     "data": {
      "image/png": "[encoded data removed]",
      "text/plain": [
       "<Figure size 1500x700 with 18 Axes>"
      ]
     },
     "metadata": {},
     "output_type": "display_data"
    }
   ],
   "source": [
    "import matplotlib.pyplot as plt\n",
    "\n",
    "# Select a few test examples\n",
    "num_examples = 6\n",
    "x_test_subset = x_test[:num_examples]\n",
    "\n",
    "# Get the model's predictions for the test examples\n",
    "decoded_imgs, mlp_preds = model.predict(x_test_subset)\n",
    "\n",
    "# Plot the input images, reconstructed images, and MLP predictions\n",
    "fig, axes = plt.subplots(nrows=3, ncols=num_examples, figsize=(num_examples*2.5, 7))\n",
    "\n",
    "for i in range(num_examples):\n",
    "    # Plot the input image\n",
    "    axes[0][i].imshow(x_test_subset[i].reshape(28, 28), cmap='gray')\n",
    "    axes[0][i].axis('off')\n",
    "    \n",
    "    # Plot the reconstructed image\n",
    "    axes[1][i].imshow(decoded_imgs[i].reshape(28, 28), cmap='gray')\n",
    "    axes[1][i].axis('off')\n",
    "    \n",
    "    # Plot the MLP predictions\n",
    "    axes[2][i].bar(range(10), mlp_preds[i])\n",
    "    axes[2][i].set_xticks(range(10))\n",
    "    axes[2][i].set_ylim([0, 1])\n",
    "    \n",
    "plt.show()\n"
   ]
  }
 ],
 "metadata": {
  "kernelspec": {
   "display_name": "Python 3 (ipykernel)",
   "language": "python",
   "name": "python3"
  },
  "language_info": {
   "codemirror_mode": {
    "name": "ipython",
    "version": 3
   },
   "file_extension": ".py",
   "mimetype": "text/x-python",
   "name": "python",
   "nbconvert_exporter": "python",
   "pygments_lexer": "ipython3",
   "version": "3.9.12"
  }
 },
 "nbformat": 4,
 "nbformat_minor": 5
}
